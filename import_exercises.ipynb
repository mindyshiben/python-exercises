{
 "cells": [
  {
   "cell_type": "code",
   "execution_count": 2,
   "id": "12e32535",
   "metadata": {},
   "outputs": [],
   "source": [
    "from function_exercises import get_letter_grade as grade"
   ]
  },
  {
   "cell_type": "code",
   "execution_count": 3,
   "id": "4816936d",
   "metadata": {},
   "outputs": [
    {
     "data": {
      "text/plain": [
       "'D'"
      ]
     },
     "execution_count": 3,
     "metadata": {},
     "output_type": "execute_result"
    }
   ],
   "source": [
    "grade(68)"
   ]
  },
  {
   "cell_type": "code",
   "execution_count": null,
   "id": "e96738ae",
   "metadata": {},
   "outputs": [],
   "source": [
    "# Read about and use the itertools module from the python standard library to help you solve the following problems:\n",
    "# How many different ways can you combine the letters from \"abc\" with the numbers 1, 2, and 3?"
   ]
  },
  {
   "cell_type": "code",
   "execution_count": 56,
   "id": "7b65a03b",
   "metadata": {},
   "outputs": [
    {
     "name": "stdout",
     "output_type": "stream",
     "text": [
      "[('A', '1'), ('A', '2'), ('A', '3'), ('B', '1'), ('B', '2'), ('B', '3'), ('C', '1'), ('C', '2'), ('C', '3')]\n"
     ]
    },
    {
     "data": {
      "text/plain": [
       "9"
      ]
     },
     "execution_count": 56,
     "metadata": {},
     "output_type": "execute_result"
    }
   ],
   "source": [
    "from itertools import product\n",
    "\n",
    "value = [['A', 'B', 'C'],['1', '2', '3']]\n",
    "combos = list(product(*value))\n",
    "print(combos)\n",
    "len(combos)"
   ]
  },
  {
   "cell_type": "code",
   "execution_count": null,
   "id": "5985aaf0",
   "metadata": {},
   "outputs": [],
   "source": [
    "# How many different combinations are there of 2 letters from \"abcd\"?"
   ]
  },
  {
   "cell_type": "code",
   "execution_count": 61,
   "id": "7bdf221d",
   "metadata": {},
   "outputs": [
    {
     "name": "stdout",
     "output_type": "stream",
     "text": [
      "[('A', 'B'), ('A', 'C'), ('A', 'D'), ('B', 'C'), ('B', 'D'), ('C', 'D')]\n"
     ]
    },
    {
     "data": {
      "text/plain": [
       "6"
      ]
     },
     "execution_count": 61,
     "metadata": {},
     "output_type": "execute_result"
    }
   ],
   "source": [
    "from itertools import combinations\n",
    "\n",
    "letters = ['A', 'B', 'C', 'D']\n",
    "two_letter_combos = list(combinations(letters, 2))\n",
    "print(two_letter_combos)\n",
    "len(two_letter_combos)"
   ]
  },
  {
   "cell_type": "code",
   "execution_count": null,
   "id": "fe7cbee8",
   "metadata": {},
   "outputs": [],
   "source": [
    "# How many different permutations are there of 2 letters from \"abcd\"?"
   ]
  },
  {
   "cell_type": "code",
   "execution_count": 64,
   "id": "aa482e9f",
   "metadata": {},
   "outputs": [
    {
     "name": "stdout",
     "output_type": "stream",
     "text": [
      "[('A', 'B'), ('A', 'C'), ('A', 'D'), ('B', 'A'), ('B', 'C'), ('B', 'D'), ('C', 'A'), ('C', 'B'), ('C', 'D'), ('D', 'A'), ('D', 'B'), ('D', 'C')]\n"
     ]
    },
    {
     "data": {
      "text/plain": [
       "12"
      ]
     },
     "execution_count": 64,
     "metadata": {},
     "output_type": "execute_result"
    }
   ],
   "source": [
    "from itertools import permutations\n",
    "\n",
    "letters = ['A', 'B', 'C', 'D']\n",
    "two_letter_perms = list(permutations(letters, 2))\n",
    "print(two_letter_perms)\n",
    "len(two_letter_perms)"
   ]
  },
  {
   "cell_type": "code",
   "execution_count": null,
   "id": "a24cb12d",
   "metadata": {},
   "outputs": [],
   "source": []
  }
 ],
 "metadata": {
  "kernelspec": {
   "display_name": "Python 3 (ipykernel)",
   "language": "python",
   "name": "python3"
  },
  "language_info": {
   "codemirror_mode": {
    "name": "ipython",
    "version": 3
   },
   "file_extension": ".py",
   "mimetype": "text/x-python",
   "name": "python",
   "nbconvert_exporter": "python",
   "pygments_lexer": "ipython3",
   "version": "3.9.7"
  }
 },
 "nbformat": 4,
 "nbformat_minor": 5
}
