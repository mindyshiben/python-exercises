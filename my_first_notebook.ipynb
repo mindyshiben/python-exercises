{
 "cells": [
  {
   "cell_type": "code",
   "execution_count": null,
   "id": "585401ce",
   "metadata": {},
   "outputs": [],
   "source": [
    "# Hello"
   ]
  },
  {
   "cell_type": "code",
   "execution_count": 1,
   "id": "d8965e51",
   "metadata": {},
   "outputs": [
    {
     "name": "stdout",
     "output_type": "stream",
     "text": [
      "hey there\n"
     ]
    }
   ],
   "source": [
    "greeting = \"hey there\"\n",
    "print(greeting)"
   ]
  },
  {
   "cell_type": "code",
   "execution_count": 1,
   "id": "0b8494b4",
   "metadata": {},
   "outputs": [
    {
     "name": "stdout",
     "output_type": "stream",
     "text": [
      "what is the day today?Friday\n",
      "Just fyi, it's not Monday\n"
     ]
    }
   ],
   "source": [
    "day = input(\"what is the day today?\")\n",
    "if day.casefold()== \"monday\":\n",
    "    print(\"It's Monday. Have a great week!\")\n",
    "if day.casefold() != \"monday\":\n",
    "    print(\"Just fyi, it's not Monday\")"
   ]
  },
  {
   "cell_type": "markdown",
   "id": "845fa02a",
   "metadata": {},
   "source": [
    "#this is a markdown\n",
    "#you can double click to edit a cell or press enter\n",
    "#you can tell what's code when you highlight a cell because it is green"
   ]
  },
  {
   "cell_type": "code",
   "execution_count": 2,
   "id": "72b0ecf7",
   "metadata": {},
   "outputs": [
    {
     "data": {
      "text/plain": [
       "3"
      ]
     },
     "execution_count": 2,
     "metadata": {},
     "output_type": "execute_result"
    }
   ],
   "source": [
    "1 + 2 #shift + enter will return an output"
   ]
  },
  {
   "cell_type": "code",
   "execution_count": null,
   "id": "bd6ffa8c",
   "metadata": {},
   "outputs": [],
   "source": [
    "# Some Useful Shortcuts\n",
    "\n",
    "# cmnd s - saves work at current check point. this is the same as file --> save and checkpoint\n",
    "\n",
    "# cmnd a - inserts a cell above your current working cell\n",
    "\n",
    "# cmnd b -inserts a cell below your current working cell\n",
    "\n",
    "# tab - the tab key auto completes your code and/or gives you suggestions in a menu. Using tab can really increase efficiency\n",
    "\n",
    "# here is a helpful chart with some of the most useful JN shortcuts -\n",
    "# https://www.edureka.co/blog/wp-content/uploads/2018/10/Jupyter_Notebook_CheatSheet_Edureka.pdf\n",
    "\n"
   ]
  }
 ],
 "metadata": {
  "kernelspec": {
   "display_name": "Python 3 (ipykernel)",
   "language": "python",
   "name": "python3"
  },
  "language_info": {
   "codemirror_mode": {
    "name": "ipython",
    "version": 3
   },
   "file_extension": ".py",
   "mimetype": "text/x-python",
   "name": "python",
   "nbconvert_exporter": "python",
   "pygments_lexer": "ipython3",
   "version": "3.9.7"
  }
 },
 "nbformat": 4,
 "nbformat_minor": 5
}
