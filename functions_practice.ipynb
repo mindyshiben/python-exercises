{
 "cells": [
  {
   "cell_type": "code",
   "execution_count": 21,
   "id": "5617ac2c",
   "metadata": {},
   "outputs": [],
   "source": [
    "def is_two(x):\n",
    "    return x + 1"
   ]
  },
  {
   "cell_type": "code",
   "execution_count": 20,
   "id": "f793e027",
   "metadata": {},
   "outputs": [
    {
     "name": "stdout",
     "output_type": "stream",
     "text": [
      "Mindy\n"
     ]
    }
   ],
   "source": [
    "name = 'Mindy'\n",
    "print(name)"
   ]
  },
  {
   "cell_type": "code",
   "execution_count": 63,
   "id": "e155e7be",
   "metadata": {},
   "outputs": [
    {
     "data": {
      "text/plain": [
       "True"
      ]
     },
     "execution_count": 63,
     "metadata": {},
     "output_type": "execute_result"
    }
   ],
   "source": [
    "def is_two(x):\n",
    "    if x == 2:\n",
    "        return True\n",
    "    elif x == '2':\n",
    "        return True\n",
    "    else:\n",
    "        return False\n",
    "is_two(2)"
   ]
  },
  {
   "cell_type": "code",
   "execution_count": null,
   "id": "37f77006",
   "metadata": {},
   "outputs": [],
   "source": [
    "# Define a function named is_vowel. It should return True if the passed string is a vowel, False otherwise."
   ]
  },
  {
   "cell_type": "code",
   "execution_count": 78,
   "id": "7c245c99",
   "metadata": {},
   "outputs": [
    {
     "data": {
      "text/plain": [
       "True"
      ]
     },
     "execution_count": 78,
     "metadata": {},
     "output_type": "execute_result"
    }
   ],
   "source": [
    "def is_vowel(char):\n",
    "    if char.casefold() in 'aeiou'and len(char.casefold()) == 1:\n",
    "        return True\n",
    "    else:\n",
    "        return False\n",
    "is_vowel('I')"
   ]
  },
  {
   "cell_type": "code",
   "execution_count": null,
   "id": "d28d97f1",
   "metadata": {},
   "outputs": [],
   "source": [
    "# Define a function named is_consonant. It should return True if the passed string is a consonant, False otherwise. \n",
    "# Use your is_vowel function to accomplish this"
   ]
  },
  {
   "cell_type": "code",
   "execution_count": 192,
   "id": "968f33a3",
   "metadata": {},
   "outputs": [
    {
     "data": {
      "text/plain": [
       "True"
      ]
     },
     "execution_count": 192,
     "metadata": {},
     "output_type": "execute_result"
    }
   ],
   "source": [
    "def is_consonant(char):\n",
    "    if type(char) == str char.casefold() not in 'aeiou' and len(char.casefold()) == 1:\n",
    "        return True\n",
    "    else:\n",
    "        return False\n",
    "is_consonant('7')"
   ]
  },
  {
   "cell_type": "code",
   "execution_count": null,
   "id": "da0cba34",
   "metadata": {},
   "outputs": [],
   "source": [
    "# Define a function that accepts a string that is a word. \n",
    "# The function should capitalize the first letter of the word if the word starts with a consonant."
   ]
  },
  {
   "cell_type": "code",
   "execution_count": 194,
   "id": "40ced184",
   "metadata": {},
   "outputs": [
    {
     "data": {
      "text/plain": [
       "'apple'"
      ]
     },
     "execution_count": 194,
     "metadata": {},
     "output_type": "execute_result"
    }
   ],
   "source": [
    "def is_word(x):\n",
    "    if x[0].casefold() not in 'aeiou':\n",
    "        return x.capitalize()\n",
    "    else:\n",
    "        return x\n",
    "is_word('apple')"
   ]
  },
  {
   "cell_type": "code",
   "execution_count": null,
   "id": "7e657084",
   "metadata": {},
   "outputs": [],
   "source": [
    "# Define a function named calculate_tip. It should accept a tip percentage (a number between 0 and 1) \n",
    "# and the bill total, and return the amount to tip"
   ]
  },
  {
   "cell_type": "code",
   "execution_count": 96,
   "id": "325e2d7e",
   "metadata": {},
   "outputs": [
    {
     "data": {
      "text/plain": [
       "36.0"
      ]
     },
     "execution_count": 96,
     "metadata": {},
     "output_type": "execute_result"
    }
   ],
   "source": [
    "def calculate_tip(tip_percent, bill_total):\n",
    "    if float(tip_percent) > 0 and float(tip_percent) <=1:\n",
    "        return float(tip_percent) * float(bill_total)\n",
    "    else:\n",
    "        return('invalid')\n",
    "calculate_tip(.3, 120)"
   ]
  },
  {
   "cell_type": "code",
   "execution_count": null,
   "id": "2aedb59f",
   "metadata": {},
   "outputs": [],
   "source": [
    "# Define a function named apply_discount. It should accept a original price, and a discount percentage, \n",
    "# and return the price after the discount is applied"
   ]
  },
  {
   "cell_type": "code",
   "execution_count": 100,
   "id": "81a107fa",
   "metadata": {},
   "outputs": [
    {
     "data": {
      "text/plain": [
       "40.0"
      ]
     },
     "execution_count": 100,
     "metadata": {},
     "output_type": "execute_result"
    }
   ],
   "source": [
    "def apply_discount(price, discount):\n",
    "    return float(price) - (float(price) * float(discount))\n",
    "apply_discount(50, .2)"
   ]
  },
  {
   "cell_type": "code",
   "execution_count": null,
   "id": "e5842fcd",
   "metadata": {},
   "outputs": [],
   "source": [
    "# Define a function named handle_commas. \n",
    "# It should accept a string that is a number that contains commas in it as input, and return a number as output"
   ]
  },
  {
   "cell_type": "code",
   "execution_count": 103,
   "id": "c45dedf3",
   "metadata": {},
   "outputs": [
    {
     "data": {
      "text/plain": [
       "10354940134.0"
      ]
     },
     "execution_count": 103,
     "metadata": {},
     "output_type": "execute_result"
    }
   ],
   "source": [
    "def handle_commas(x):\n",
    "    return float(x.replace(\",\", \"\"))\n",
    "handle_commas('10,354,940,134')"
   ]
  },
  {
   "cell_type": "code",
   "execution_count": null,
   "id": "366ab6b9",
   "metadata": {},
   "outputs": [],
   "source": [
    "# Define a function named get_letter_grade. \n",
    "# It should accept a number and return the letter grade associated with that number (A-F)"
   ]
  },
  {
   "cell_type": "code",
   "execution_count": 106,
   "id": "17421a6f",
   "metadata": {},
   "outputs": [
    {
     "data": {
      "text/plain": [
       "'A'"
      ]
     },
     "execution_count": 106,
     "metadata": {},
     "output_type": "execute_result"
    }
   ],
   "source": [
    "def get_letter_grade(num):\n",
    "    if float(num) >= 90 and float(num) <= 100:\n",
    "        return 'A'\n",
    "    if float(num) >= 80 and float(num) < 90:\n",
    "        return 'B'\n",
    "    if float(num) >= 70 and float(num) < 80:\n",
    "        return 'C'\n",
    "    if float(num) >= 60 and float(num) < 70:\n",
    "        return 'D'\n",
    "    if float(num) >= 0 and float(num) < 50:\n",
    "        return 'F'\n",
    "get_letter_grade (100)"
   ]
  },
  {
   "cell_type": "code",
   "execution_count": null,
   "id": "c077c100",
   "metadata": {},
   "outputs": [],
   "source": [
    "# Define a function named remove_vowels that accepts a string and returns a string with all the vowels removed"
   ]
  },
  {
   "cell_type": "code",
   "execution_count": 150,
   "id": "b36ddb51",
   "metadata": {},
   "outputs": [
    {
     "data": {
      "text/plain": [
       "'hll ths s  tst'"
      ]
     },
     "execution_count": 150,
     "metadata": {},
     "output_type": "execute_result"
    }
   ],
   "source": [
    "def remove_vowels(text):\n",
    "    for i in 'aeiouAEIOU':\n",
    "        text = text.replace(i,\"\")\n",
    "    return text\n",
    "        \n",
    "        \n",
    "remove_vowels('hello this is A test')"
   ]
  },
  {
   "cell_type": "code",
   "execution_count": null,
   "id": "149dbfc1",
   "metadata": {},
   "outputs": [],
   "source": [
    "# Define a function named normalize_name. It should accept a string and return a valid python identifier, that is:\n",
    "# anything that is not a valid python identifier should be removed\n",
    "# leading and trailing whitespace should be removed\n",
    "# everything should be lowercase\n",
    "# spaces should be replaced with underscores\n"
   ]
  },
  {
   "cell_type": "code",
   "execution_count": 166,
   "id": "fc1a123d",
   "metadata": {},
   "outputs": [
    {
     "data": {
      "text/plain": [
       "'__ipl__plw'"
      ]
     },
     "execution_count": 166,
     "metadata": {},
     "output_type": "execute_result"
    }
   ],
   "source": [
    "def normalize_name(s):\n",
    "    invalid_char = ['@', '$', '#', '%', '.', ' ', '/', '!', '&', ',']\n",
    "    for i in invalid_char:\n",
    "        s = s.replace(i,'_')\n",
    "    while True:\n",
    "        if s[0].isdigit():\n",
    "            s = s[1:]\n",
    "        else:\n",
    "            break\n",
    "    s = s.strip()\n",
    "    return s.lower()\n",
    "    \n",
    "normalize_name('990__iPL@ plW')\n"
   ]
  },
  {
   "cell_type": "code",
   "execution_count": null,
   "id": "ce23f5a8",
   "metadata": {},
   "outputs": [],
   "source": [
    "# Write a function named cumulative_sum that accepts a list of numbers and returns a list \n",
    "# that is the cumulative sum of the numbers in the list.\n",
    "# cumulative_sum([1, 1, 1]) returns [1, 2, 3]\n",
    "# cumulative_sum([1, 2, 3, 4]) returns [1, 3, 6, 10]"
   ]
  },
  {
   "cell_type": "code",
   "execution_count": 189,
   "id": "0a6a41f1",
   "metadata": {},
   "outputs": [
    {
     "ename": "SyntaxError",
     "evalue": "invalid syntax (2494819688.py, line 3)",
     "output_type": "error",
     "traceback": [
      "\u001b[0;36m  File \u001b[0;32m\"/var/folders/s4/hmz6ljm533vgpm_bhv59yw0m0000gn/T/ipykernel_38478/2494819688.py\"\u001b[0;36m, line \u001b[0;32m3\u001b[0m\n\u001b[0;31m    for x in csum.append + x\u001b[0m\n\u001b[0m                            ^\u001b[0m\n\u001b[0;31mSyntaxError\u001b[0m\u001b[0;31m:\u001b[0m invalid syntax\n"
     ]
    }
   ],
   "source": [
    "def cumulative_sum(list_of_num):\n",
    "    csum = []\n",
    "    for x in csum.append\n",
    "    return csum\n",
    "        \n",
    "\n",
    "cumulative_sum(1, 2, 3)"
   ]
  },
  {
   "cell_type": "code",
   "execution_count": null,
   "id": "3302f26a",
   "metadata": {},
   "outputs": [],
   "source": []
  }
 ],
 "metadata": {
  "kernelspec": {
   "display_name": "Python 3 (ipykernel)",
   "language": "python",
   "name": "python3"
  },
  "language_info": {
   "codemirror_mode": {
    "name": "ipython",
    "version": 3
   },
   "file_extension": ".py",
   "mimetype": "text/x-python",
   "name": "python",
   "nbconvert_exporter": "python",
   "pygments_lexer": "ipython3",
   "version": "3.9.7"
  }
 },
 "nbformat": 4,
 "nbformat_minor": 5
}
